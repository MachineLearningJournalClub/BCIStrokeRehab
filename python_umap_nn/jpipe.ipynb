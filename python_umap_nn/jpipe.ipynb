{
 "cells": [
  {
   "cell_type": "code",
   "execution_count": 1,
   "metadata": {},
   "outputs": [],
   "source": [
    "import random\n",
    "import numpy as np\n",
    "import pandas as pd\n",
    "import matplotlib.pyplot as plt\n",
    "from matplotlib import rcParams\n",
    "from scipy import io\n",
    "import os\n",
    "from scipy import signal"
   ]
  },
  {
   "cell_type": "code",
   "execution_count": 12,
   "metadata": {},
   "outputs": [],
   "source": [
    "import os \n",
    "from sklearn import model_selection\n",
    "from sklearn import preprocessing, linear_model, naive_bayes, metrics, svm\n",
    "from sklearn.linear_model import LogisticRegression\n",
    "from sklearn import decomposition, ensemble\n",
    "from sklearn.ensemble import RandomForestClassifier\n",
    "from sklearn.neural_network import MLPClassifier\n",
    "from sklearn.model_selection import GridSearchCV\n",
    "from sklearn.model_selection import KFold\n",
    "from sklearn.model_selection import cross_val_score\n",
    "from sklearn.metrics import accuracy_score\n"
   ]
  },
  {
   "cell_type": "code",
   "execution_count": 3,
   "metadata": {},
   "outputs": [],
   "source": [
    "import scipy.integrate as si\n",
    "\n",
    "import umap\n",
    "import umap.umap_ as umap\n",
    "import umap as UMAP"
   ]
  },
  {
   "cell_type": "code",
   "execution_count": 29,
   "metadata": {},
   "outputs": [],
   "source": [
    "def mljc_valid_model(V,L, eigencomponents = 60):\n",
    "    \n",
    "    print(\"FIT SOME SHIRRRRRT\")\n",
    "    \n",
    "    embedding = umap.UMAP(n_components=eigencomponents).fit_transform(V, y=L)  #n_components=100\n",
    "    \n",
    "    SEED = 0\n",
    "    train_x, valid_x, train_y, valid_y = model_selection.train_test_split(embedding, L, test_size = 0.2, random_state = SEED)\n",
    "    \n",
    "    # CHANGE HERE THE PERCEPTRON\n",
    "    MLP=MLPClassifier().fit(train_x, train_y) \n",
    "    S=MLP.score(valid_x, valid_y)\n",
    "        \n",
    "    return S, MLP, embedding\n",
    "\n",
    "def build_features(d):\n",
    "           \n",
    "        n_class1=np.shape(d[0][0])[2]\n",
    "        n_class2=np.shape(d[1][0])[2]\n",
    "        \n",
    "        X = np.reshape(d[0][0], (n_class1,16*2048))\n",
    "        Y = np.reshape(d[1][0], (n_class2,16*2048))\n",
    "\n",
    "        V=[]\n",
    "        L=[]\n",
    "    \n",
    "        for i in range(n_class1):\n",
    "            V.append(X[i,:])\n",
    "            L.append(-1)\n",
    "        \n",
    "        for i in range(n_class2):\n",
    "            V.append(Y[i,:])\n",
    "            L.append(1)\n",
    "        \n",
    "        V = np.array(V)\n",
    "        L = np.array(L)\n",
    "    \n",
    "        c = list(zip(V,L))\n",
    "        random.shuffle(c)\n",
    "        V,L = zip(*c)\n",
    "        \n",
    "        return V, L\n",
    "    \n",
    "def valid_training_pipe(filename):\n",
    "    \n",
    "    #patient_pre_train='P2_pre_training_filtered.mat'\n",
    "    #patient_post_train='P2_post_training_filtered.mat'\n",
    "    \n",
    "    P = io.loadmat(filename)\n",
    "    \n",
    "    data =  P['dataOut']\n",
    "    V, L = build_features(data)\n",
    "        \n",
    "    score, model, embedding = mljc_valid_model(V,L)\n",
    "    \n",
    "    return score, model, embedding"
   ]
  },
  {
   "cell_type": "code",
   "execution_count": 30,
   "metadata": {},
   "outputs": [],
   "source": [
    "def mljc_test_model(V,L, Model, embedding_train, eigencomponents = 60):\n",
    "    \n",
    "    print(\"FIT SOME SHIRRRRRT\")\n",
    "    \n",
    "    #embedding = umap.UMAP(n_components=eigencomponents).fit_transform(V, y=L)  #n_components=100\n",
    "    V_test = embedding_train.transform(V)\n",
    "    \n",
    "    SEED = 0\n",
    "    #train_x, valid_x, train_y, valid_y = model_selection.train_test_split(embedding, L, test_size = 0.2, random_state = SEED)\n",
    "    \n",
    "    #MLP=MLPClassifier().fit(train_x, train_y) \n",
    "    S=Model.score(V_test,L)\n",
    "        \n",
    "    return S\n",
    "\n",
    "def test_pipe(test_file,Model, embedding_train):\n",
    "    \n",
    "    #patient_pre_train='P2_pre_training_filtered.mat'\n",
    "    #patient_post_train='P2_post_training_filtered.mat'\n",
    "    \n",
    "    #training = io.loadmat(train_file)\n",
    "    test = io.loadmat(test_file)\n",
    "\n",
    "    data_test = test['dataOut']\n",
    "    \n",
    "    V_test, L_test = build_features(data_test)\n",
    "        \n",
    "    S = mljc_test_model(V_test,L_test,Model, embedding_train)\n",
    "\n",
    "    return"
   ]
  },
  {
   "cell_type": "code",
   "execution_count": 31,
   "metadata": {},
   "outputs": [
    {
     "name": "stdout",
     "output_type": "stream",
     "text": [
      "FIT SOME SHIRRRRRT\n"
     ]
    },
    {
     "name": "stderr",
     "output_type": "stream",
     "text": [
      "C:\\Users\\jamesjun\\Anaconda3\\lib\\site-packages\\sklearn\\neural_network\\multilayer_perceptron.py:562: ConvergenceWarning: Stochastic Optimizer: Maximum iterations (200) reached and the optimization hasn't converged yet.\n",
      "  % self.max_iter, ConvergenceWarning)\n"
     ]
    },
    {
     "name": "stdout",
     "output_type": "stream",
     "text": [
      "0.875\n",
      "FIT SOME SHIRRRRRT\n"
     ]
    },
    {
     "ename": "AttributeError",
     "evalue": "'numpy.ndarray' object has no attribute 'transform'",
     "output_type": "error",
     "traceback": [
      "\u001b[1;31m---------------------------------------------------------------------------\u001b[0m",
      "\u001b[1;31mAttributeError\u001b[0m                            Traceback (most recent call last)",
      "\u001b[1;32m<ipython-input-31-13f4aafbc07d>\u001b[0m in \u001b[0;36m<module>\u001b[1;34m\u001b[0m\n\u001b[0;32m      6\u001b[0m \u001b[0mvalidation_score\u001b[0m\u001b[1;33m,\u001b[0m \u001b[0mM\u001b[0m\u001b[1;33m,\u001b[0m \u001b[0mE\u001b[0m\u001b[1;33m=\u001b[0m \u001b[0mvalid_training_pipe\u001b[0m\u001b[1;33m(\u001b[0m\u001b[0mtrain_file\u001b[0m\u001b[1;33m)\u001b[0m\u001b[1;33m\u001b[0m\u001b[1;33m\u001b[0m\u001b[0m\n\u001b[0;32m      7\u001b[0m \u001b[0mprint\u001b[0m\u001b[1;33m(\u001b[0m\u001b[0mvalidation_score\u001b[0m\u001b[1;33m)\u001b[0m\u001b[1;33m\u001b[0m\u001b[1;33m\u001b[0m\u001b[0m\n\u001b[1;32m----> 8\u001b[1;33m \u001b[0mtest_pipe\u001b[0m\u001b[1;33m(\u001b[0m\u001b[0mtest_file\u001b[0m\u001b[1;33m,\u001b[0m\u001b[0mM\u001b[0m\u001b[1;33m,\u001b[0m \u001b[0mE\u001b[0m\u001b[1;33m)\u001b[0m\u001b[1;33m\u001b[0m\u001b[1;33m\u001b[0m\u001b[0m\n\u001b[0m",
      "\u001b[1;32m<ipython-input-30-1788e9d098f0>\u001b[0m in \u001b[0;36mtest_pipe\u001b[1;34m(test_file, Model, embedding_train)\u001b[0m\n\u001b[0;32m     26\u001b[0m     \u001b[0mV_test\u001b[0m\u001b[1;33m,\u001b[0m \u001b[0mL_test\u001b[0m \u001b[1;33m=\u001b[0m \u001b[0mbuild_features\u001b[0m\u001b[1;33m(\u001b[0m\u001b[0mdata_test\u001b[0m\u001b[1;33m)\u001b[0m\u001b[1;33m\u001b[0m\u001b[1;33m\u001b[0m\u001b[0m\n\u001b[0;32m     27\u001b[0m \u001b[1;33m\u001b[0m\u001b[0m\n\u001b[1;32m---> 28\u001b[1;33m     \u001b[0mS\u001b[0m \u001b[1;33m=\u001b[0m \u001b[0mmljc_test_model\u001b[0m\u001b[1;33m(\u001b[0m\u001b[0mV_test\u001b[0m\u001b[1;33m,\u001b[0m\u001b[0mL_test\u001b[0m\u001b[1;33m,\u001b[0m\u001b[0mModel\u001b[0m\u001b[1;33m,\u001b[0m \u001b[0membedding_train\u001b[0m\u001b[1;33m)\u001b[0m\u001b[1;33m\u001b[0m\u001b[1;33m\u001b[0m\u001b[0m\n\u001b[0m\u001b[0;32m     29\u001b[0m \u001b[1;33m\u001b[0m\u001b[0m\n\u001b[0;32m     30\u001b[0m     \u001b[1;32mreturn\u001b[0m\u001b[1;33m\u001b[0m\u001b[1;33m\u001b[0m\u001b[0m\n",
      "\u001b[1;32m<ipython-input-30-1788e9d098f0>\u001b[0m in \u001b[0;36mmljc_test_model\u001b[1;34m(V, L, Model, embedding_train, eigencomponents)\u001b[0m\n\u001b[0;32m      4\u001b[0m \u001b[1;33m\u001b[0m\u001b[0m\n\u001b[0;32m      5\u001b[0m     \u001b[1;31m#embedding = umap.UMAP(n_components=eigencomponents).fit_transform(V, y=L)  #n_components=100\u001b[0m\u001b[1;33m\u001b[0m\u001b[1;33m\u001b[0m\u001b[1;33m\u001b[0m\u001b[0m\n\u001b[1;32m----> 6\u001b[1;33m     \u001b[0mV_test\u001b[0m \u001b[1;33m=\u001b[0m \u001b[0membedding_train\u001b[0m\u001b[1;33m.\u001b[0m\u001b[0mtransform\u001b[0m\u001b[1;33m(\u001b[0m\u001b[0mV\u001b[0m\u001b[1;33m)\u001b[0m\u001b[1;33m\u001b[0m\u001b[1;33m\u001b[0m\u001b[0m\n\u001b[0m\u001b[0;32m      7\u001b[0m \u001b[1;33m\u001b[0m\u001b[0m\n\u001b[0;32m      8\u001b[0m     \u001b[0mSEED\u001b[0m \u001b[1;33m=\u001b[0m \u001b[1;36m0\u001b[0m\u001b[1;33m\u001b[0m\u001b[1;33m\u001b[0m\u001b[0m\n",
      "\u001b[1;31mAttributeError\u001b[0m: 'numpy.ndarray' object has no attribute 'transform'"
     ]
    }
   ],
   "source": [
    "path = \"C:/Users/jamesjun/Desktop/Simone/BCI_Comp/data/paziente2/\"# your path here\n",
    "\n",
    "train_file = os.path.join(path, \"P2_pre_training_filtered.mat\")\n",
    "test_file  = os.path.join(path, \"P2_pre_test_filtered.mat\")\n",
    "\n",
    "validation_score, M, E= valid_training_pipe(train_file)\n",
    "print(validation_score)\n",
    "test_pipe(test_file,M, E)"
   ]
  },
  {
   "cell_type": "code",
   "execution_count": null,
   "metadata": {},
   "outputs": [],
   "source": []
  },
  {
   "cell_type": "code",
   "execution_count": null,
   "metadata": {},
   "outputs": [],
   "source": []
  }
 ],
 "metadata": {
  "kernelspec": {
   "display_name": "Python 3",
   "language": "python",
   "name": "python3"
  },
  "language_info": {
   "codemirror_mode": {
    "name": "ipython",
    "version": 3
   },
   "file_extension": ".py",
   "mimetype": "text/x-python",
   "name": "python",
   "nbconvert_exporter": "python",
   "pygments_lexer": "ipython3",
   "version": "3.7.3"
  }
 },
 "nbformat": 4,
 "nbformat_minor": 2
}

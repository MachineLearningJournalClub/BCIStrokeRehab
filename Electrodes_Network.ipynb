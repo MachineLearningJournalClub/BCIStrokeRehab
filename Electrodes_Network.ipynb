{
 "cells": [
  {
   "cell_type": "markdown",
   "metadata": {},
   "source": [
    "# EDA"
   ]
  },
  {
   "cell_type": "code",
   "execution_count": 1,
   "metadata": {},
   "outputs": [],
   "source": [
    "import numpy as np\n",
    "import pandas as pd\n",
    "import matplotlib.pyplot as plt\n",
    "from matplotlib import rcParams\n",
    "from scipy import io\n",
    "import os\n",
    "from scipy import signal"
   ]
  },
  {
   "cell_type": "code",
   "execution_count": 2,
   "metadata": {},
   "outputs": [],
   "source": [
    "#load dataset\n",
    "#3 patients, pre and post stroke\n",
    "\n",
    "path = r\"C:\\Users\\jamesjun\\Desktop\\Simone\\BCI_Comp\"\n",
    "\n",
    "P1_pre_training = io.loadmat(path + '\\P1_pre_training.mat')\n",
    "P1_post_training = io.loadmat(path + '\\P1_post_training.mat')\n",
    "P1_pre_test = io.loadmat(path + '\\P1_pre_test.mat')\n",
    "P1_post_test = io.loadmat(path + '\\P1_post_test.mat')\n",
    "\n",
    "P2_pre_training = io.loadmat(path + '\\P2_pre_training.mat')\n",
    "P2_post_training = io.loadmat(path + '\\P2_post_training.mat')\n",
    "P2_pre_test = io.loadmat(path + '\\P2_pre_test.mat')\n",
    "P2_post_test = io.loadmat(path + '\\P2_post_test.mat')\n",
    "\n",
    "P3_pre_training = io.loadmat(path + '\\P3_pre_training.mat')\n",
    "P3_post_training = io.loadmat(path + '\\P3_post_training.mat')\n",
    "P3_pre_test = io.loadmat(path + '\\P3_pre_test.mat')\n",
    "P3_post_test = io.loadmat(path + '\\P3_post_test.mat')"
   ]
  },
  {
   "cell_type": "code",
   "execution_count": 3,
   "metadata": {},
   "outputs": [
    {
     "data": {
      "text/plain": [
       "array([[ 0],\n",
       "       [ 0],\n",
       "       [ 0],\n",
       "       ...,\n",
       "       [-1],\n",
       "       [-1],\n",
       "       [-1]], dtype=int16)"
      ]
     },
     "execution_count": 3,
     "metadata": {},
     "output_type": "execute_result"
    }
   ],
   "source": [
    "#labels\n",
    "label_P1_pre_training=P1_pre_training['trig']\n",
    "label_P1_pre_training"
   ]
  },
  {
   "cell_type": "code",
   "execution_count": 4,
   "metadata": {},
   "outputs": [
    {
     "data": {
      "text/plain": [
       "array([[    -1,  79889],\n",
       "       [     0, 110007],\n",
       "       [     1,  81920]], dtype=int64)"
      ]
     },
     "execution_count": 4,
     "metadata": {},
     "output_type": "execute_result"
    }
   ],
   "source": [
    "(unique, counts) = np.unique(P1_pre_training['trig'], return_counts=True)\n",
    "frequencies = np.asarray((unique, counts)).T\n",
    "frequencies"
   ]
  },
  {
   "cell_type": "markdown",
   "metadata": {},
   "source": [
    "## Start with P1_pre_training\n",
    "### Preprocessing (prepare samples and cut 0)"
   ]
  },
  {
   "cell_type": "code",
   "execution_count": 5,
   "metadata": {},
   "outputs": [
    {
     "data": {
      "text/plain": [
       "(271816, 16)"
      ]
     },
     "execution_count": 5,
     "metadata": {},
     "output_type": "execute_result"
    }
   ],
   "source": [
    "x=P1_pre_training['y'][:,:]\n",
    "np.shape(x)"
   ]
  },
  {
   "cell_type": "code",
   "execution_count": 6,
   "metadata": {},
   "outputs": [
    {
     "data": {
      "text/plain": [
       "(271816, 16)"
      ]
     },
     "execution_count": 6,
     "metadata": {},
     "output_type": "execute_result"
    }
   ],
   "source": [
    "x=signal.detrend(x)\n",
    "np.shape(x)"
   ]
  },
  {
   "cell_type": "code",
   "execution_count": 7,
   "metadata": {},
   "outputs": [],
   "source": [
    "#cut the zeros\n",
    "samples0=[]       #set of examples, each matrix represent a trial (59 channels X interval time)\n",
    "labels0=[]\n",
    "\n",
    "for i in range(len(label_P1_pre_training)):\n",
    "    if label_P1_pre_training[i][0]!=0:\n",
    "        labels0.append(label_P1_pre_training[i][0])\n",
    "        samples0.append(x[i])"
   ]
  },
  {
   "cell_type": "code",
   "execution_count": 8,
   "metadata": {},
   "outputs": [
    {
     "data": {
      "text/plain": [
       "((161809, 16), (161809,), {-1, 1})"
      ]
     },
     "execution_count": 8,
     "metadata": {},
     "output_type": "execute_result"
    }
   ],
   "source": [
    "np.shape(samples0), np.shape(labels0), set(labels0)"
   ]
  },
  {
   "cell_type": "code",
   "execution_count": 9,
   "metadata": {
    "scrolled": false
   },
   "outputs": [],
   "source": [
    "#P1_pre_training\n",
    "\"\"\"\n",
    "t = range(161809)        \n",
    "for i in range(16):\n",
    "    \n",
    "    x=(np.transpose(samples0))[i]\n",
    "    \n",
    "    plt.figure(figsize=(30,10))\n",
    "    plt.plot(t,x)\n",
    "    plt.show()\n",
    "\"\"\";"
   ]
  },
  {
   "cell_type": "code",
   "execution_count": 10,
   "metadata": {},
   "outputs": [
    {
     "data": {
      "text/plain": [
       "(16, 161809)"
      ]
     },
     "execution_count": 10,
     "metadata": {},
     "output_type": "execute_result"
    }
   ],
   "source": [
    "np.shape(np.transpose(np.array(samples0)))"
   ]
  },
  {
   "cell_type": "code",
   "execution_count": 11,
   "metadata": {},
   "outputs": [],
   "source": [
    "times=range(0,np.shape(samples0)[0]-17,2048)\n",
    "samples=[]                                      #set of examples, each matrix represent a trial (59 channels X interval time)\n",
    "labels=[]\n",
    "for i in times:\n",
    "    samples.append(np.transpose(np.array(samples0))[:,i:i+2048])  \n",
    "    labels.append(labels0[i])"
   ]
  },
  {
   "cell_type": "code",
   "execution_count": 12,
   "metadata": {},
   "outputs": [
    {
     "data": {
      "text/plain": [
       "((79, 16, 2048), (79,))"
      ]
     },
     "execution_count": 12,
     "metadata": {},
     "output_type": "execute_result"
    }
   ],
   "source": [
    "np.shape(samples), np.shape(labels) #set(labels)"
   ]
  },
  {
   "cell_type": "code",
   "execution_count": 13,
   "metadata": {},
   "outputs": [],
   "source": [
    "samples = np.asarray(samples)"
   ]
  },
  {
   "cell_type": "code",
   "execution_count": 34,
   "metadata": {},
   "outputs": [
    {
     "data": {
      "text/plain": [
       "338.0561634498484"
      ]
     },
     "execution_count": 34,
     "metadata": {},
     "output_type": "execute_result"
    }
   ],
   "source": [
    "samples[62,:,:].max()"
   ]
  },
  {
   "cell_type": "code",
   "execution_count": null,
   "metadata": {},
   "outputs": [],
   "source": [
    "# max è 338.05, sul trial 62 , canale 4 = C5 , "
   ]
  },
  {
   "cell_type": "code",
   "execution_count": 42,
   "metadata": {},
   "outputs": [
    {
     "data": {
      "text/plain": [
       "29.920014844221214"
      ]
     },
     "execution_count": 42,
     "metadata": {},
     "output_type": "execute_result"
    }
   ],
   "source": [
    "samples[62,5,400:450].max()"
   ]
  },
  {
   "cell_type": "code",
   "execution_count": 32,
   "metadata": {},
   "outputs": [
    {
     "data": {
      "text/plain": [
       "308.51000741299464"
      ]
     },
     "execution_count": 32,
     "metadata": {},
     "output_type": "execute_result"
    }
   ],
   "source": [
    "samples[62,0,488]"
   ]
  },
  {
   "cell_type": "code",
   "execution_count": 27,
   "metadata": {},
   "outputs": [
    {
     "data": {
      "text/plain": [
       "20480"
      ]
     },
     "execution_count": 27,
     "metadata": {},
     "output_type": "execute_result"
    }
   ],
   "source": [
    "10*2048"
   ]
  },
  {
   "cell_type": "code",
   "execution_count": 29,
   "metadata": {},
   "outputs": [
    {
     "data": {
      "text/plain": [
       "4.23828125"
      ]
     },
     "execution_count": 29,
     "metadata": {},
     "output_type": "execute_result"
    }
   ],
   "source": [
    "8680/2048"
   ]
  },
  {
   "cell_type": "code",
   "execution_count": null,
   "metadata": {},
   "outputs": [],
   "source": []
  }
 ],
 "metadata": {
  "kernelspec": {
   "display_name": "Python 3",
   "language": "python",
   "name": "python3"
  },
  "language_info": {
   "codemirror_mode": {
    "name": "ipython",
    "version": 3
   },
   "file_extension": ".py",
   "mimetype": "text/x-python",
   "name": "python",
   "nbconvert_exporter": "python",
   "pygments_lexer": "ipython3",
   "version": "3.7.3"
  }
 },
 "nbformat": 4,
 "nbformat_minor": 2
}

{
 "cells": [
  {
   "cell_type": "code",
   "execution_count": 1,
   "metadata": {},
   "outputs": [],
   "source": [
    "import random\n",
    "import numpy as np\n",
    "import pandas as pd\n",
    "import matplotlib.pyplot as plt\n",
    "from matplotlib import rcParams\n",
    "from scipy import io\n",
    "import os\n",
    "from scipy import signal"
   ]
  },
  {
   "cell_type": "code",
   "execution_count": 5,
   "metadata": {},
   "outputs": [],
   "source": [
    "import os \n"
   ]
  },
  {
   "cell_type": "code",
   "execution_count": 2,
   "metadata": {},
   "outputs": [
    {
     "ename": "ModuleNotFoundError",
     "evalue": "No module named 'umap.umap_'",
     "output_type": "error",
     "traceback": [
      "\u001b[0;31m---------------------------------------------------------------------------\u001b[0m",
      "\u001b[0;31mModuleNotFoundError\u001b[0m                       Traceback (most recent call last)",
      "\u001b[0;32m<ipython-input-2-79aeb0999c52>\u001b[0m in \u001b[0;36m<module>\u001b[0;34m\u001b[0m\n\u001b[1;32m      2\u001b[0m \u001b[0;34m\u001b[0m\u001b[0m\n\u001b[1;32m      3\u001b[0m \u001b[0;32mimport\u001b[0m \u001b[0mumap\u001b[0m\u001b[0;34m\u001b[0m\u001b[0;34m\u001b[0m\u001b[0m\n\u001b[0;32m----> 4\u001b[0;31m \u001b[0;32mimport\u001b[0m \u001b[0mumap\u001b[0m\u001b[0;34m.\u001b[0m\u001b[0mumap_\u001b[0m \u001b[0;32mas\u001b[0m \u001b[0mumap\u001b[0m\u001b[0;34m\u001b[0m\u001b[0;34m\u001b[0m\u001b[0m\n\u001b[0m\u001b[1;32m      5\u001b[0m \u001b[0;32mimport\u001b[0m \u001b[0mumap\u001b[0m \u001b[0;32mas\u001b[0m \u001b[0mUMAP\u001b[0m\u001b[0;34m\u001b[0m\u001b[0;34m\u001b[0m\u001b[0m\n",
      "\u001b[0;31mModuleNotFoundError\u001b[0m: No module named 'umap.umap_'"
     ]
    }
   ],
   "source": [
    "import scipy.integrate as si\n",
    "\n",
    "import umap\n",
    "import umap.umap_ as umap\n",
    "import umap as UMAP"
   ]
  },
  {
   "cell_type": "code",
   "execution_count": 7,
   "metadata": {},
   "outputs": [],
   "source": [
    "def mljc_valid_model(V,L):\n",
    "    \n",
    "    print(\"FIT SOME SHIRRRRRT\")\n",
    "    \n",
    "    embedding = umap.UMAP(n_components=eigencomponents).fit_transform(V, y=L)  #n_components=100\n",
    "    \n",
    "    SEED = 0\n",
    "    train_x, valid_x, train_y, valid_y = model_selection.train_test_split(embedding, L, test_size = 0.2, random_state = SEED)\n",
    "    \n",
    "    # CHANGE HERE THE PERCEPTRON\n",
    "    MLP=MLPClassifier().fit(train_x, train_y) \n",
    "    S=MLP.score(valid_x, valid_y)\n",
    "        \n",
    "    return S, MLP\n",
    "\n",
    "def build_features(d):\n",
    "           \n",
    "        n_class1=np.shape(d[0][0])[2]\n",
    "        n_class2=np.shape(d[1][0])[2]\n",
    "        \n",
    "        X = np.reshape(d[0][0], (n_class1,16*2048))\n",
    "        Y = np.reshape(d[1][0], (n_class2,16*2048))\n",
    "\n",
    "        V=[]\n",
    "        L=[]\n",
    "    \n",
    "        for i in range(n_class1):\n",
    "            V.append(X[i,:])\n",
    "            L.append(-1)\n",
    "        \n",
    "        for i in range(n_class2):\n",
    "            V.append(Y[i,:])\n",
    "            L.append(1)\n",
    "        \n",
    "        V = np.array(V)\n",
    "        L = np.array(L)\n",
    "    \n",
    "        c = list(zip(V,L))\n",
    "        random.shuffle(c)\n",
    "        V,L = zip(*c)\n",
    "        \n",
    "        return V, L\n",
    "    \n",
    "def valid_training_pipe(filename):\n",
    "    \n",
    "    #patient_pre_train='P2_pre_training_filtered.mat'\n",
    "    #patient_post_train='P2_post_training_filtered.mat'\n",
    "    \n",
    "    P = io.loadmat(filename)\n",
    "    \n",
    "    data =  P['dataOut']\n",
    "    V, L = build_features(data)\n",
    "        \n",
    "    score, model = mljc_valid_model(V,L)\n",
    "    \n",
    "    return score, model"
   ]
  },
  {
   "cell_type": "code",
   "execution_count": 8,
   "metadata": {},
   "outputs": [],
   "source": [
    "def mljc_test_model(V,L):\n",
    "    \n",
    "    print(\"FIT SOME SHIRRRRRT\")\n",
    "    \n",
    "    embedding = umap.UMAP(n_components=100).fit_transform(V, y=L)  #n_components=100\n",
    "    \n",
    "    SEED = 0\n",
    "    train_x, valid_x, train_y, valid_y = model_selection.train_test_split(embedding, L, test_size = 0.2, random_state = SEED)\n",
    "    \n",
    "    MLP=MLPClassifier().fit(train_x, train_y) \n",
    "    S=MLP.score(valid_x, valid_y)\n",
    "        \n",
    "    return S\n",
    "\n",
    "def test_pipe(train_file,test_file,M):\n",
    "    \n",
    "    #patient_pre_train='P2_pre_training_filtered.mat'\n",
    "    #patient_post_train='P2_post_training_filtered.mat'\n",
    "    \n",
    "    training = io.loadmat(patient_pre_train)\n",
    "    test = io.loadmat(patient_pre_test)\n",
    "\n",
    "    data_train =  trining['dataOut']\n",
    "    data_test = training['dataOut']\n",
    "    \n",
    "    V_train, L_train = build_features(data_train)\n",
    "    V_test, L_test = build_features(data_test)\n",
    "        \n",
    "    S = mljc_test_model(V_train, L_train,V_test, L_test,M )\n",
    "\n",
    "    return"
   ]
  },
  {
   "cell_type": "code",
   "execution_count": 9,
   "metadata": {},
   "outputs": [
    {
     "name": "stdout",
     "output_type": "stream",
     "text": [
      "FIT SOME SHIRRRRRT\n"
     ]
    },
    {
     "ename": "AttributeError",
     "evalue": "module 'umap' has no attribute 'UMAP'",
     "output_type": "error",
     "traceback": [
      "\u001b[0;31m---------------------------------------------------------------------------\u001b[0m",
      "\u001b[0;31mAttributeError\u001b[0m                            Traceback (most recent call last)",
      "\u001b[0;32m<ipython-input-9-d516eb18f569>\u001b[0m in \u001b[0;36m<module>\u001b[0;34m\u001b[0m\n\u001b[1;32m      4\u001b[0m \u001b[0mtest_file\u001b[0m  \u001b[0;34m=\u001b[0m \u001b[0mos\u001b[0m\u001b[0;34m.\u001b[0m\u001b[0mpath\u001b[0m\u001b[0;34m.\u001b[0m\u001b[0mjoin\u001b[0m\u001b[0;34m(\u001b[0m\u001b[0mpath\u001b[0m\u001b[0;34m,\u001b[0m \u001b[0;34m\"P2_pre_test_filtered.mat\"\u001b[0m\u001b[0;34m)\u001b[0m\u001b[0;34m\u001b[0m\u001b[0;34m\u001b[0m\u001b[0m\n\u001b[1;32m      5\u001b[0m \u001b[0;34m\u001b[0m\u001b[0m\n\u001b[0;32m----> 6\u001b[0;31m \u001b[0mvalidation_score\u001b[0m\u001b[0;34m,\u001b[0m \u001b[0mM\u001b[0m \u001b[0;34m=\u001b[0m \u001b[0mvalid_training_pipe\u001b[0m\u001b[0;34m(\u001b[0m\u001b[0mtrain_file\u001b[0m\u001b[0;34m)\u001b[0m\u001b[0;34m\u001b[0m\u001b[0;34m\u001b[0m\u001b[0m\n\u001b[0m\u001b[1;32m      7\u001b[0m \u001b[0mprint\u001b[0m\u001b[0;34m(\u001b[0m\u001b[0mvalidation_score\u001b[0m\u001b[0;34m)\u001b[0m\u001b[0;34m\u001b[0m\u001b[0;34m\u001b[0m\u001b[0m\n\u001b[1;32m      8\u001b[0m \u001b[0mtest_pipe\u001b[0m\u001b[0;34m(\u001b[0m\u001b[0mtrain_file\u001b[0m\u001b[0;34m,\u001b[0m\u001b[0mtest_file\u001b[0m\u001b[0;34m,\u001b[0m\u001b[0mM\u001b[0m\u001b[0;34m)\u001b[0m\u001b[0;34m\u001b[0m\u001b[0;34m\u001b[0m\u001b[0m\n",
      "\u001b[0;32m<ipython-input-7-1d74bfb81b76>\u001b[0m in \u001b[0;36mvalid_training_pipe\u001b[0;34m(filename)\u001b[0m\n\u001b[1;32m     52\u001b[0m     \u001b[0mV\u001b[0m\u001b[0;34m,\u001b[0m \u001b[0mL\u001b[0m \u001b[0;34m=\u001b[0m \u001b[0mbuild_features\u001b[0m\u001b[0;34m(\u001b[0m\u001b[0mdata\u001b[0m\u001b[0;34m)\u001b[0m\u001b[0;34m\u001b[0m\u001b[0;34m\u001b[0m\u001b[0m\n\u001b[1;32m     53\u001b[0m \u001b[0;34m\u001b[0m\u001b[0m\n\u001b[0;32m---> 54\u001b[0;31m     \u001b[0mscore\u001b[0m\u001b[0;34m,\u001b[0m \u001b[0mmodel\u001b[0m \u001b[0;34m=\u001b[0m \u001b[0mmljc_valid_model\u001b[0m\u001b[0;34m(\u001b[0m\u001b[0mV\u001b[0m\u001b[0;34m,\u001b[0m\u001b[0mL\u001b[0m\u001b[0;34m)\u001b[0m\u001b[0;34m\u001b[0m\u001b[0;34m\u001b[0m\u001b[0m\n\u001b[0m\u001b[1;32m     55\u001b[0m \u001b[0;34m\u001b[0m\u001b[0m\n\u001b[1;32m     56\u001b[0m     \u001b[0;32mreturn\u001b[0m \u001b[0mscore\u001b[0m\u001b[0;34m,\u001b[0m \u001b[0mmodel\u001b[0m\u001b[0;34m\u001b[0m\u001b[0;34m\u001b[0m\u001b[0m\n",
      "\u001b[0;32m<ipython-input-7-1d74bfb81b76>\u001b[0m in \u001b[0;36mmljc_valid_model\u001b[0;34m(V, L)\u001b[0m\n\u001b[1;32m      3\u001b[0m     \u001b[0mprint\u001b[0m\u001b[0;34m(\u001b[0m\u001b[0;34m\"FIT SOME SHIRRRRRT\"\u001b[0m\u001b[0;34m)\u001b[0m\u001b[0;34m\u001b[0m\u001b[0;34m\u001b[0m\u001b[0m\n\u001b[1;32m      4\u001b[0m \u001b[0;34m\u001b[0m\u001b[0m\n\u001b[0;32m----> 5\u001b[0;31m     \u001b[0membedding\u001b[0m \u001b[0;34m=\u001b[0m \u001b[0mumap\u001b[0m\u001b[0;34m.\u001b[0m\u001b[0mUMAP\u001b[0m\u001b[0;34m(\u001b[0m\u001b[0mn_components\u001b[0m\u001b[0;34m=\u001b[0m\u001b[0meigencomponents\u001b[0m\u001b[0;34m)\u001b[0m\u001b[0;34m.\u001b[0m\u001b[0mfit_transform\u001b[0m\u001b[0;34m(\u001b[0m\u001b[0mV\u001b[0m\u001b[0;34m,\u001b[0m \u001b[0my\u001b[0m\u001b[0;34m=\u001b[0m\u001b[0mL\u001b[0m\u001b[0;34m)\u001b[0m  \u001b[0;31m#n_components=100\u001b[0m\u001b[0;34m\u001b[0m\u001b[0;34m\u001b[0m\u001b[0m\n\u001b[0m\u001b[1;32m      6\u001b[0m \u001b[0;34m\u001b[0m\u001b[0m\n\u001b[1;32m      7\u001b[0m     \u001b[0mSEED\u001b[0m \u001b[0;34m=\u001b[0m \u001b[0;36m0\u001b[0m\u001b[0;34m\u001b[0m\u001b[0;34m\u001b[0m\u001b[0m\n",
      "\u001b[0;31mAttributeError\u001b[0m: module 'umap' has no attribute 'UMAP'"
     ]
    }
   ],
   "source": [
    "path = \"\"# yout path here\n",
    "\n",
    "train_file = os.path.join(path, \"P2_pre_training_filtered.mat\")\n",
    "test_file  = os.path.join(path, \"P2_pre_test_filtered.mat\")\n",
    "\n",
    "validation_score, M = valid_training_pipe(train_file)\n",
    "print(validation_score)\n",
    "test_pipe(train_file,test_file,M)"
   ]
  },
  {
   "cell_type": "code",
   "execution_count": null,
   "metadata": {},
   "outputs": [],
   "source": []
  },
  {
   "cell_type": "code",
   "execution_count": null,
   "metadata": {},
   "outputs": [],
   "source": []
  }
 ],
 "metadata": {
  "kernelspec": {
   "display_name": "Python 3",
   "language": "python",
   "name": "python3"
  },
  "language_info": {
   "codemirror_mode": {
    "name": "ipython",
    "version": 3
   },
   "file_extension": ".py",
   "mimetype": "text/x-python",
   "name": "python",
   "nbconvert_exporter": "python",
   "pygments_lexer": "ipython3",
   "version": "3.7.4"
  }
 },
 "nbformat": 4,
 "nbformat_minor": 2
}

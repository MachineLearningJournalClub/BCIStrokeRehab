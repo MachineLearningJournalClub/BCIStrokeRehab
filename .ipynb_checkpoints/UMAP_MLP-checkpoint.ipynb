{
 "cells": [
  {
   "cell_type": "code",
   "execution_count": 1,
   "metadata": {},
   "outputs": [],
   "source": [
    "import numpy as np\n",
    "import pandas as pd\n",
    "import matplotlib.pyplot as plt\n",
    "from matplotlib import rcParams\n",
    "from scipy import io\n",
    "import os\n",
    "from scipy import signal"
   ]
  },
  {
   "cell_type": "code",
   "execution_count": 2,
   "metadata": {},
   "outputs": [],
   "source": [
    "import scipy.integrate as si\n",
    "import umap\n",
    "import umap.umap_ as umap"
   ]
  },
  {
   "cell_type": "code",
   "execution_count": 29,
   "metadata": {},
   "outputs": [],
   "source": [
    "P2_pre_training = io.loadmat(\"C:/Users/jamesjun/Desktop/Simone/BCI_Comp/data/paziente2/P2_pre_training_filtered.mat\")\n",
    "P2_pre_test = io.loadmat(\"C:/Users/jamesjun/Desktop/Simone/BCI_Comp/data/paziente2/P2_pre_test_filtered.mat\")"
   ]
  },
  {
   "cell_type": "code",
   "execution_count": 30,
   "metadata": {},
   "outputs": [],
   "source": [
    "data=P2_pre_training['dataOut']\n",
    "#np.shape(data[0][0]), np.shape(data[1][0])  \n",
    "X = np.reshape(data[0][0], (78,16*2048))\n",
    "Y = np.reshape(data[1][0], (79,16*2048))\n",
    "V=[]\n",
    "L=[]\n",
    "for i in range(78):\n",
    "    V.append(X[i,:])\n",
    "    L.append(-1)\n",
    "    \n",
    "for i in range(79):\n",
    "    V.append(Y[i,:])\n",
    "    L.append(1)\n",
    "    \n",
    "V = np.array(V)\n",
    "L = np.array(L)"
   ]
  },
  {
   "cell_type": "code",
   "execution_count": 15,
   "metadata": {},
   "outputs": [],
   "source": [
    "import random"
   ]
  },
  {
   "cell_type": "code",
   "execution_count": 18,
   "metadata": {
    "scrolled": true
   },
   "outputs": [],
   "source": [
    "c = list(zip(V,L))\n",
    "\n",
    "random.shuffle(c)\n",
    "\n",
    "V,L = zip(*c) "
   ]
  },
  {
   "cell_type": "code",
   "execution_count": 50,
   "metadata": {},
   "outputs": [
    {
     "data": {
      "text/plain": [
       "78"
      ]
     },
     "execution_count": 50,
     "metadata": {},
     "output_type": "execute_result"
    }
   ],
   "source": [
    "data_test[0][0].shape[2]"
   ]
  },
  {
   "cell_type": "code",
   "execution_count": 51,
   "metadata": {},
   "outputs": [],
   "source": [
    "data_test=P2_pre_test['dataOut']\n",
    "X_test = np.reshape(data[0][0], (data[0][0].shape[2],16*2048))\n",
    "Y_test = np.reshape(data[1][0], (data[1][0].shape[2],16*2048))\n",
    "V_test=[]\n",
    "L_test=[]\n",
    "for i in range(data[0][0].shape[2]):\n",
    "    V_test.append(X_test[i,:])\n",
    "    L_test.append(-1)\n",
    "    \n",
    "for i in range(data[1][0].shape[2]):\n",
    "    V_test.append(Y_test[i,:])\n",
    "    L_test.append(1)\n",
    "    \n",
    "V_test = np.array(V_test)\n",
    "L_test = np.array(L_test)"
   ]
  },
  {
   "cell_type": "code",
   "execution_count": 52,
   "metadata": {},
   "outputs": [],
   "source": [
    "c_test = list(zip(V_test,L_test))\n",
    "\n",
    "random.shuffle(c_test)\n",
    "\n",
    "V_test,L_test = zip(*c_test) "
   ]
  },
  {
   "cell_type": "code",
   "execution_count": 57,
   "metadata": {},
   "outputs": [],
   "source": [
    "#embedding = umap.UMAP(n_components=100).fit_transform(V, y=L)  #n_components=100\n",
    "embedding1 = umap.UMAP(n_components = 100).fit(V)\n",
    "embedding = embedding1.fit_transform(V, y = L)"
   ]
  },
  {
   "cell_type": "code",
   "execution_count": 58,
   "metadata": {
    "scrolled": true
   },
   "outputs": [],
   "source": [
    "V_test_transformed = embedding1.transform(V_test)"
   ]
  },
  {
   "cell_type": "code",
   "execution_count": 39,
   "metadata": {},
   "outputs": [],
   "source": [
    "from sklearn import model_selection\n",
    "from sklearn import preprocessing, linear_model, naive_bayes, metrics, svm\n",
    "from sklearn.linear_model import LogisticRegression\n",
    "from sklearn import decomposition, ensemble\n",
    "from sklearn.ensemble import RandomForestClassifier\n",
    "from sklearn.neural_network import MLPClassifier\n",
    "from sklearn.model_selection import GridSearchCV\n",
    "from sklearn.model_selection import KFold\n",
    "from sklearn.model_selection import cross_val_score\n",
    "from sklearn.metrics import accuracy_score"
   ]
  },
  {
   "cell_type": "code",
   "execution_count": 59,
   "metadata": {},
   "outputs": [],
   "source": [
    "SEED = 0\n",
    "train_x, valid_x, train_y, valid_y = model_selection.train_test_split(embedding, L, test_size = 0.2, random_state = SEED)"
   ]
  },
  {
   "cell_type": "code",
   "execution_count": 68,
   "metadata": {},
   "outputs": [],
   "source": [
    "MLP=MLPClassifier(hidden_layer_sizes= (100,300,150),max_iter = 1000,  ).fit(embedding, L) \n",
    "#MLP.score(valid_x, valid_y)"
   ]
  },
  {
   "cell_type": "code",
   "execution_count": 66,
   "metadata": {},
   "outputs": [],
   "source": [
    "#MLP.fit(valid_x,valid_y)"
   ]
  },
  {
   "cell_type": "code",
   "execution_count": 69,
   "metadata": {},
   "outputs": [
    {
     "data": {
      "text/plain": [
       "0.9617834394904459"
      ]
     },
     "execution_count": 69,
     "metadata": {},
     "output_type": "execute_result"
    }
   ],
   "source": [
    "MLP.score(V_test_transformed, L_test)"
   ]
  },
  {
   "cell_type": "code",
   "execution_count": null,
   "metadata": {},
   "outputs": [],
   "source": []
  }
 ],
 "metadata": {
  "kernelspec": {
   "display_name": "Python 3",
   "language": "python",
   "name": "python3"
  },
  "language_info": {
   "codemirror_mode": {
    "name": "ipython",
    "version": 3
   },
   "file_extension": ".py",
   "mimetype": "text/x-python",
   "name": "python",
   "nbconvert_exporter": "python",
   "pygments_lexer": "ipython3",
   "version": "3.7.3"
  }
 },
 "nbformat": 4,
 "nbformat_minor": 2
}

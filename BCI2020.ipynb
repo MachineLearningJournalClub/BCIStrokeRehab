{
 "cells": [
  {
   "cell_type": "markdown",
   "metadata": {},
   "source": [
    "# EDA"
   ]
  },
  {
   "cell_type": "code",
   "execution_count": 1,
   "metadata": {},
   "outputs": [],
   "source": [
    "import numpy as np\n",
    "import pandas as pd\n",
    "import matplotlib.pyplot as plt\n",
    "from matplotlib import rcParams\n",
    "from scipy import io\n",
    "import os\n",
    "from scipy import signal"
   ]
  },
  {
   "cell_type": "code",
   "execution_count": 4,
   "metadata": {},
   "outputs": [],
   "source": [
    "#load dataset\n",
    "#3 patients, pre and post stroke\n",
    "path = r\"C:\\Users\\jamesjun\\Desktop\\Simone\\BCI_Comp\"\n",
    "\n",
    "P1_pre_training = io.loadmat(path + '\\P1_pre_training.mat')\n",
    "P1_post_training = io.loadmat(path + '\\P1_post_training.mat')\n",
    "P1_pre_test = io.loadmat(path + '\\P1_pre_test.mat')\n",
    "P1_post_test = io.loadmat(path + '\\P1_post_test.mat')\n",
    "\n",
    "P2_pre_training = io.loadmat(path + '\\P2_pre_training.mat')\n",
    "P2_post_training = io.loadmat(path + '\\P2_post_training.mat')\n",
    "P2_pre_test = io.loadmat(path + '\\P2_pre_test.mat')\n",
    "P2_post_test = io.loadmat(path + '\\P2_post_test.mat')\n",
    "\n",
    "P3_pre_training = io.loadmat(path + '\\P3_pre_training.mat')\n",
    "P3_post_training = io.loadmat(path + '\\P3_post_training.mat')\n",
    "P3_pre_test = io.loadmat(path + '\\P3_pre_test.mat')\n",
    "P3_post_test = io.loadmat(path + '\\P3_post_test.mat')"
   ]
  },
  {
   "cell_type": "code",
   "execution_count": 5,
   "metadata": {},
   "outputs": [
    {
     "data": {
      "text/plain": [
       "(271816, 1)"
      ]
     },
     "execution_count": 5,
     "metadata": {},
     "output_type": "execute_result"
    }
   ],
   "source": [
    "np.shape(P1_pre_training['trig'])"
   ]
  },
  {
   "cell_type": "code",
   "execution_count": 6,
   "metadata": {},
   "outputs": [
    {
     "data": {
      "text/plain": [
       "array([[    -1,  79889],\n",
       "       [     0, 110007],\n",
       "       [     1,  81920]], dtype=int64)"
      ]
     },
     "execution_count": 6,
     "metadata": {},
     "output_type": "execute_result"
    }
   ],
   "source": [
    "(unique, counts) = np.unique(P1_pre_training['trig'], return_counts=True)\n",
    "frequencies = np.asarray((unique, counts)).T\n",
    "frequencies"
   ]
  },
  {
   "cell_type": "code",
   "execution_count": 7,
   "metadata": {},
   "outputs": [
    {
     "name": "stdout",
     "output_type": "stream",
     "text": [
      "(271816, 16)\n",
      "(197343, 16)\n",
      "(204560, 16)\n",
      "(194088, 16)\n",
      "(223112, 16)\n",
      "(216720, 16)\n",
      "(199552, 16)\n",
      "(233576, 16)\n",
      "(205536, 16)\n",
      "(206504, 16)\n",
      "(248488, 16)\n",
      "(218432, 16)\n"
     ]
    }
   ],
   "source": [
    "for m in [P1_pre_training, P1_post_training, P1_pre_test, P1_post_test, \n",
    "          P2_pre_training, P2_post_training, P2_pre_test, P2_post_test, \n",
    "          P3_pre_training, P3_post_training, P3_pre_test, P3_post_test]:\n",
    "    print(np.shape(m['y']))    #16 channels"
   ]
  },
  {
   "cell_type": "code",
   "execution_count": null,
   "metadata": {},
   "outputs": [],
   "source": []
  }
 ],
 "metadata": {
  "kernelspec": {
   "display_name": "Python 3",
   "language": "python",
   "name": "python3"
  },
  "language_info": {
   "codemirror_mode": {
    "name": "ipython",
    "version": 3
   },
   "file_extension": ".py",
   "mimetype": "text/x-python",
   "name": "python",
   "nbconvert_exporter": "python",
   "pygments_lexer": "ipython3",
   "version": "3.7.3"
  }
 },
 "nbformat": 4,
 "nbformat_minor": 2
}
